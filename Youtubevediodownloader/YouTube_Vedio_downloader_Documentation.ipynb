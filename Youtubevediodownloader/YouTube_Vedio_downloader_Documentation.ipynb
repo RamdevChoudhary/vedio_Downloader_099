{
 "cells": [
  {
   "cell_type": "markdown",
   "id": "6aa182a4",
   "metadata": {},
   "source": [
    "**YouTube Video Downloader Documentation**\n",
    "\n",
    "This code is a simple YouTube video downloader implemented using the Tkinter library for creating a graphical user interface (GUI) and the PyTube library for downloading YouTube videos. It allows users to enter a YouTube video URL, choose a directory for saving the downloaded video, and initiate the download process.\n",
    "\n",
    "**Imported Libraries:**\n",
    "- `os`: This library provides a way to use operating system-dependent functionality.\n",
    "- `tkinter`: This library is used for creating GUI applications.\n",
    "- `ttk`: This module provides access to Tk themed widget set.\n",
    "- `messagebox`: This module provides a set of dialog boxes for showing informational, warning, error messages, etc.\n",
    "- `filedialog`: This module implements file dialogs to open and save files.\n",
    "- `pytube`: This library is used for downloading YouTube videos.\n",
    "\n",
    "**Global Variable:**\n",
    "- `Foldername`: This variable is used to store the selected folder/directory path for saving the downloaded video.\n",
    "\n",
    "**Function: openloc()**\n",
    "- This function is invoked when the user clicks the \"Choose Directory\" button.\n",
    "- It opens a file dialog and allows the user to select a folder/directory.\n",
    "- The selected path is stored in the `Foldername` global variable.\n",
    "- If the selected folder/directory path has a length greater than 1, it updates the label `locationnerror` to display the selected path in green color. Otherwise, it displays \"Choose Directory\" in red color.\n",
    "\n",
    "**Function: Download_vid()**\n",
    "- This function is called when the user clicks the \"Apply\" button to start the video download process.\n",
    "- It retrieves the YouTube video URL entered by the user from the `ytdentry` Entry widget.\n",
    "- If the URL has a length greater than 1, the function proceeds with the download process. Otherwise, it updates the `ytderror` label to display \"Paste the link again\" in red color.\n",
    "- It creates a `YouTube` object using the provided URL.\n",
    "- It retrieves the title of the YouTube video using the `title` attribute of the `YouTube` object.\n",
    "- It displays a message box asking the user if they want to download the video. The message box includes the video title and gives the user the option to proceed or cancel.\n",
    "- If the user chooses to proceed, it filters the available streams to select the one with progressive playback and an MP4 file extension. It then initiates the download to the selected folder/directory using the `download()` method of the stream object.\n",
    "- After the download completes, it updates the `ytderror` label to display \"Download Completed\" in green color. If the user cancels the download, it updates the `ytderror` label to display \"Download Cancelled\" in red color.\n",
    "- If any exception occurs during the download process, it displays an error message box with the specific error details.\n",
    "\n",
    "**GUI Setup:**\n",
    "- The code creates a Tkinter root window with the title \"YouTube Video Downloader\" and dimensions of 350x400 pixels.\n",
    "- The root window's column is configured to have a weight of 1, allowing the widgets to expand horizontally.\n",
    "- Labels, entry fields, buttons, and error labels are created using Tkinter's various widget classes.\n",
    "- These widgets are arranged in a grid layout using the `grid()` method.\n",
    "- The \"Enter URL\" label, URL entry field, and error label are placed in the first row.\n",
    "- The \"Save the Video\" label, \"Choose Directory\" button, and directory error label are placed in the second row.\n",
    "- The \"Apply\" button is placed in the third row.\n",
    "- The root window enters the event loop using the `mainloop()` method, enabling interaction with the GUI.\n",
    "\n",
    "Please note that to run this code, you need to have the necessary dependencies installed, such as `pytube` and `tkinter`."
   ]
  },
  {
   "cell_type": "code",
   "execution_count": null,
   "id": "bcf0e857",
   "metadata": {},
   "outputs": [],
   "source": []
  }
 ],
 "metadata": {
  "kernelspec": {
   "display_name": "Python 3 (ipykernel)",
   "language": "python",
   "name": "python3"
  },
  "language_info": {
   "codemirror_mode": {
    "name": "ipython",
    "version": 3
   },
   "file_extension": ".py",
   "mimetype": "text/x-python",
   "name": "python",
   "nbconvert_exporter": "python",
   "pygments_lexer": "ipython3",
   "version": "3.10.9"
  }
 },
 "nbformat": 4,
 "nbformat_minor": 5
}
